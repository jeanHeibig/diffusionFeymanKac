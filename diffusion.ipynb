{
 "cells": [
  {
   "cell_type": "code",
   "execution_count": 13,
   "metadata": {},
   "outputs": [],
   "source": [
    "import glob\n",
    "import matplotlib.pyplot as plt\n",
    "import numpy as np\n",
    "import os\n",
    "from PIL import Image\n",
    "from scipy.stats import norm"
   ]
  },
  {
   "cell_type": "code",
   "execution_count": 14,
   "metadata": {},
   "outputs": [],
   "source": [
    "from brownian import brownian"
   ]
  },
  {
   "cell_type": "code",
   "execution_count": 15,
   "metadata": {},
   "outputs": [],
   "source": [
    "# The number of dimensions of the space.\n",
    "d = 2\n",
    "# The Wiener process parameter.\n",
    "delta = 1\n",
    "# Total time.\n",
    "T = 2.0\n",
    "# Number of steps.\n",
    "N = 50\n",
    "# Number of realizations to generate.\n",
    "m = 20\n",
    "# Set the image resolution.\n",
    "nx, ny = 50, 50"
   ]
  },
  {
   "cell_type": "code",
   "execution_count": 16,
   "metadata": {},
   "outputs": [],
   "source": [
    "# Time step size\n",
    "dt = T / N\n",
    "# Create an empty array to store the realizations.\n",
    "W = np.empty((d, m, N + 1))\n",
    "# Initial values of x.\n",
    "W[..., 0] = 0\n",
    "# Set an array for time steps\n",
    "t = np.linspace(0, N * dt, N + 1)\n",
    "# Create a square grid\n",
    "X, Y = np.linspace(0, 2 * np.pi, nx), np.linspace(0, 2 * np.pi, ny)"
   ]
  },
  {
   "cell_type": "code",
   "execution_count": 17,
   "metadata": {},
   "outputs": [],
   "source": [
    "hF = lambda a, m, n: lambda x, y: a * np.sin(m * x) * np.sin(n * y)\n",
    "sF = lambda a, m, n: lambda x, y: hF(a, m, n)(x, y).reshape((nx, ny, 1)) * np.exp(-(m + n) ** 2 * t / 2 / d).reshape((1, 1, *t.shape))"
   ]
  },
  {
   "cell_type": "code",
   "execution_count": 18,
   "metadata": {},
   "outputs": [],
   "source": [
    "fourier = lambda F, c: lambda x, y: sum([sum([F(c[m, n], m+1, n+1)(x, y) for m in range(c.shape[0])]) for n in range(c.shape[1])])"
   ]
  },
  {
   "cell_type": "code",
   "execution_count": 22,
   "metadata": {},
   "outputs": [],
   "source": [
    "np.random.seed(0)\n",
    "# c = np.random.randn(10, 10)\n",
    "c = np.ones((2, 2))"
   ]
  },
  {
   "cell_type": "code",
   "execution_count": 23,
   "metadata": {},
   "outputs": [],
   "source": [
    "h = fourier(hF, c)\n",
    "s = fourier(sF, c)"
   ]
  },
  {
   "cell_type": "code",
   "execution_count": 24,
   "metadata": {},
   "outputs": [],
   "source": [
    "monte_carlo = np.empty((nx, ny, N+1))\n",
    "for ix in range(nx):\n",
    "    x = X[ix]\n",
    "    for iy in range(ny):\n",
    "        y = Y[iy]\n",
    "        brownian(W[...,0], N, dt, delta, out=W[...,1:])\n",
    "        monte_carlo[iy, ix, :] = np.mean(h(x + W[0], y + W[1]), axis=0)"
   ]
  },
  {
   "cell_type": "code",
   "execution_count": 25,
   "metadata": {},
   "outputs": [],
   "source": [
    "analytic_solution = s(*np.meshgrid(X, Y))"
   ]
  },
  {
   "cell_type": "code",
   "execution_count": 27,
   "metadata": {},
   "outputs": [],
   "source": [
    "name = 'fourier-2d-newp-lundi'\n",
    "os.mkdir(f'images/gif/{name}')\n",
    "for tPlot in range(0, N+1):\n",
    "    fig, (ax1, ax2) = plt.subplots(1, 2, sharey=True, figsize=(8, 5))\n",
    "    fig.suptitle(f\"Time: {dt*tPlot:0.2f}\")\n",
    "    im = ax1.imshow(monte_carlo[..., tPlot], vmin=0, vmax=1, cmap=\"coolwarm\")\n",
    "    ax1.set_title('Monte-Carlo approximation')\n",
    "#     ax1.set_xticks([0, 0.5, 1], [0, 0.5, 1])\n",
    "#     ax1.set_yticks([0, 0.5, 1], [0, 0.5, 1])\n",
    "    im = ax2.imshow(analytic_solution[..., tPlot], vmin=0, vmax=1, cmap=\"coolwarm\")\n",
    "    ax2.set_title('Analytic solution')\n",
    "#     ax1.set_xticks([0, 0.5, 1], [0, 0.5, 1])\n",
    "#     ax1.set_yticks([0, 0.5, 1], [0, 0.5, 1])\n",
    "    plt.tight_layout()\n",
    "    fig.subplots_adjust(bottom=0.25)\n",
    "    cbar_ax = fig.add_axes([0.1, 0.1, 0.8, 0.05])\n",
    "    cbar = fig.colorbar(im, cax=cbar_ax, orientation=\"horizontal\")\n",
    "    cbar.set_label('Heat')\n",
    "    plt.savefig(f\"images/gif/{name}/{tPlot:04.0f}.png\", transparent=True)\n",
    "    plt.close()\n",
    "\n",
    "# Create the frames\n",
    "frames = []\n",
    "imgs = glob.glob(f\"images/gif/{name}/*.png\")\n",
    "imgs.sort()\n",
    "for i in imgs:\n",
    "    new_frame = Image.open(i)\n",
    "    frames.append(new_frame)\n",
    "\n",
    "# Save into a GIF file that loops forever\n",
    "frames[0].save(f'images/gif/{name}.gif', format='GIF',\n",
    "               append_images=frames[1:],\n",
    "               save_all=True,\n",
    "               duration=1, loop=0)"
   ]
  }
 ],
 "metadata": {
  "interpreter": {
   "hash": "f31275358cf534c5bfced08dac3381a2a54ac80ee284b073ad34f287f0626321"
  },
  "kernelspec": {
   "display_name": "Python 3.8.8 64-bit ('base': conda)",
   "name": "python3"
  },
  "language_info": {
   "codemirror_mode": {
    "name": "ipython",
    "version": 3
   },
   "file_extension": ".py",
   "mimetype": "text/x-python",
   "name": "python",
   "nbconvert_exporter": "python",
   "pygments_lexer": "ipython3",
   "version": "3.8.8"
  },
  "orig_nbformat": 4
 },
 "nbformat": 4,
 "nbformat_minor": 2
}
