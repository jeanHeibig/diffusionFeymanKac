{
 "cells": [
  {
   "cell_type": "markdown",
   "metadata": {},
   "source": [
    "# Équation de la chaleur\n",
    "\n",
    "\n",
    "## Introduction\n",
    "\n",
    "On cherche à résoudre des équations aux dérivées partielles du second ordre du type *équation de la chaleur*. On compare les méthodes déterministes (*cf.* Fourier et noyau gaussien) et les méthodes stochastiques (*cf.* Feyman-Kac). On s'intéresse aux équations linéaires de la forme $$\\partial_{t}v + \\alpha \\partial_{xx} v = 0$$ avec condition au bord $$v_{T} = h$$\n",
    "\n",
    "## Formalisation\n",
    "\n",
    "Soit $T \\in \\mathbb{R}_{+}^{*}$, $\\alpha \\in \\mathbb{R}_{+}^{2}$, $d \\in \\mathbb{N}^{*}$, $h \\in \\mathcal{C}^{\\infty}(\\mathbb{R}^d, \\mathbb{R})$ et $v$ solution de l'équation parabolique suivante\n",
    "$$\\begin{cases}\n",
    "    \\forall (t, x) \\in [0, T) \\times \\mathbb{R}^d, \\frac{\\partial v}{\\partial t}(t, x) + \\alpha \\nabla^2 v(t, x) = 0\n",
    "\\\\  \\forall x \\in \\mathbb{R}^d, v(T, x) = h(x)\n",
    "\\end{cases}$$\n",
    "\n",
    "## Solution classique\n",
    "\n",
    "Une solution explicite de l'équation de la chaleur est donnée par :\n",
    "$$v(t, x) = \\int h(y)K(T - t, x, y)\\textrm{d}y$$\n",
    "\n",
    "où $K$ désigne le noyau de la chaleur : $$K(t, x, y) = \\frac{1}{(4\\pi\\alpha t)^{d / 2}}\\exp\\left(-\\frac{|x - y|^{2}}{4\\alpha t}\\right)$$\n",
    "\n",
    "On a bien $\\forall x \\in \\mathbb{R}^d, v(T, x) = \\lim_{t \\to T^{-}} v(t, x) = \\int h(y) \\lim_{t \\to 0^{+}} K(t, x, y)\\textrm{d}y = \\int h(y) \\delta_x(y)\\textrm{d}y = h(x)$.\n",
    "\n",
    "Et comme\n",
    "$$\\begin{align*}\n",
    "\\frac{\\partial K}{\\partial t}(t, x, y)\n",
    "  &= \\frac{1}{(4\\pi\\alpha)^{d / 2}}\\left[ -\\frac{d / 2}{t^{d / 2 + 1}} + \\frac{1}{t^{d / 2}}\\frac{|x - y|^2}{4\\alpha t^2} \\right] \\exp\\left(-\\frac{|x - y|^{2}}{4\\alpha t}\\right)\n",
    "\\\\\\nabla^2 K(t, x, y)&= \\nabla \\cdot \\left[ \\frac{1}{(4\\pi\\alpha t)^{d / 2}} \\left( -\\frac{x - y}{2\\alpha t} \\right) \\exp\\left(-\\frac{|x - y|^{2}}{4\\alpha t}\\right) \\right]\n",
    "\\\\&= \\frac{1}{(4\\pi\\alpha t)^{d / 2}} \\left( -\\frac{d}{2\\alpha t} +\\frac{|x - y|^2}{4\\alpha^2 t^2} \\right) \\exp\\left(-\\frac{|x - y|^{2}}{4\\alpha t}\\right)\n",
    "\\\\&=\\frac{1}{\\alpha}\\frac{\\partial K}{\\partial t}(t, x, y)\n",
    "\\end{align*}\n",
    "$$\n",
    "\n",
    "Donc $$\\forall (t, x) \\in [0, T) \\times \\mathbb{R}^d, \\frac{\\partial v}{\\partial t}(t, x) + \\alpha \\nabla^2 v(t, x) = \\int h(y) \\left[-\\frac{\\partial K}{\\partial t}(T - t, x, y) + \\alpha\\nabla^2 K(T - t, x, y) \\right] \\textrm{d}y = 0$$"
   ]
  }
 ],
 "metadata": {
  "interpreter": {
   "hash": "f31275358cf534c5bfced08dac3381a2a54ac80ee284b073ad34f287f0626321"
  },
  "kernelspec": {
   "display_name": "Python 3.8.8 64-bit ('base': conda)",
   "name": "python3"
  },
  "language_info": {
   "name": "python",
   "version": "3.8.8"
  },
  "orig_nbformat": 4
 },
 "nbformat": 4,
 "nbformat_minor": 2
}
